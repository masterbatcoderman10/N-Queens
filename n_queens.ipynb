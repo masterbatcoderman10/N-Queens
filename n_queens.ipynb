{
 "cells": [
  {
   "cell_type": "code",
   "execution_count": 1,
   "metadata": {},
   "outputs": [],
   "source": [
    "import numpy as np\n",
    "import random\n",
    "import matplotlib.pyplot as plt"
   ]
  },
  {
   "cell_type": "code",
   "execution_count": 2,
   "metadata": {},
   "outputs": [],
   "source": [
    "#enumerate all possible board locations\n",
    "board_locations = set([(i,j) for i in range(8) for j in range(8)])"
   ]
  },
  {
   "cell_type": "code",
   "execution_count": 3,
   "metadata": {},
   "outputs": [],
   "source": [
    "indices = random.sample(sorted(board_locations), 8)\n",
    "board = np.zeros((8, 8), dtype=int)\n",
    "#fill board with queens using indices\n",
    "for i, j in indices:\n",
    "    board[i][j] = 1"
   ]
  },
  {
   "cell_type": "code",
   "execution_count": 4,
   "metadata": {},
   "outputs": [
    {
     "data": {
      "image/png": "[encoded data removed]",
      "text/plain": [
       "<Figure size 640x480 with 1 Axes>"
      ]
     },
     "metadata": {},
     "output_type": "display_data"
    }
   ],
   "source": [
    "#plot board\n",
    "chessboard = np.zeros((8,8))\n",
    "chessboard[1::2,0::2] = 1\n",
    "chessboard[0::2,1::2] = 1\n",
    "plt.imshow(chessboard, cmap='binary')\n",
    "for i, j in indices:\n",
    "    plt.text(j, i, '♕', fontsize=30, ha='center', va='center', color='black' if (i - j) % 2 == 0 else 'white')"
   ]
  },
  {
   "cell_type": "code",
   "execution_count": 5,
   "metadata": {},
   "outputs": [],
   "source": [
    "# function to plot the board with queens\n",
    "def plot_board(individual):\n",
    "\n",
    "    chessboard = np.zeros((8, 8))\n",
    "    chessboard[1::2, 0::2] = 1\n",
    "    chessboard[0::2, 1::2] = 1\n",
    "    plt.imshow(chessboard, cmap='binary')\n",
    "    for i, j in individual:\n",
    "        plt.text(j, i, '♕', fontsize=30, ha='center', va='center',\n",
    "                 color='black' if (i - j) % 2 == 0 else 'white')\n",
    "    plt.show()"
   ]
  },
  {
   "cell_type": "code",
   "execution_count": 6,
   "metadata": {},
   "outputs": [],
   "source": [
    "def evaluate(individual):\n",
    "\n",
    "    size = len(individual)\n",
    "    # check for queens in the same row\n",
    "    board = np.zeros((8, 8), dtype=int)\n",
    "\n",
    "\n",
    "    # fill board with queens using indices\n",
    "    for i, j in individual:\n",
    "        board[i][j] = 1\n",
    "\n",
    "    individual = board\n",
    "    \n",
    "    row_clashes = sum(np.clip(np.sum(individual, axis=1), 1, None) - 1)\n",
    "    # check for queens in the same column\n",
    "    column_clashes = sum(np.clip(np.sum(individual, axis=0), 1, None) - 1)\n",
    "\n",
    "    row_indices, column_indices = np.where(individual == 1)\n",
    "\n",
    "    left_diagonals = [0] * (2 * size - 1)\n",
    "    right_diagonals = [0] * (2 * size - 1)\n",
    "\n",
    "    for qr, qc in zip(row_indices, column_indices):\n",
    "        left_diagonals[qr + qc] += 1\n",
    "        right_diagonals[size - 1 - qr + qc] += 1\n",
    "\n",
    "    left_diagonals, right_diagonals = np.array(\n",
    "        left_diagonals), np.array(right_diagonals)\n",
    "    # clip diagonals\n",
    "    left_diagonals = np.clip(left_diagonals, 1, None) - 1\n",
    "    right_diagonals = np.clip(right_diagonals, 1, None) - 1\n",
    "    diagonal_clashes = (np.sum(left_diagonals)) + (np.sum(right_diagonals))\n",
    "    # print(row_clashes, column_clashes, diagonal_clashes)\n",
    "\n",
    "    clashes = row_clashes + column_clashes + diagonal_clashes\n",
    "\n",
    "    return clashes,"
   ]
  },
  {
   "cell_type": "code",
   "execution_count": 7,
   "metadata": {},
   "outputs": [],
   "source": [
    "def crossover(ind_1, ind_2):\n",
    "\n",
    "    indices_to_cross = random.sample(range(8), 4)\n",
    "    for i in indices_to_cross:\n",
    "        #cross index if it isn't present in the individual, else continue\n",
    "        if ind_1[i] not in ind_2 and ind_2[i] not in ind_1:\n",
    "            ind_1[i], ind_2[i] = ind_2[i], ind_1[i]\n",
    "        else:\n",
    "            continue\n",
    "    \n",
    "    return ind_1, ind_2\n",
    "            "
   ]
  },
  {
   "cell_type": "code",
   "execution_count": 8,
   "metadata": {},
   "outputs": [],
   "source": [
    "def mutate(individual):\n",
    "\n",
    "    #randomly select one indice\n",
    "    indice_to_mutate = random.choice(range(8))\n",
    "    x, y  = individual[indice_to_mutate]\n",
    "    if (y, x) not in individual:\n",
    "        individual[indice_to_mutate] = (y, x)\n",
    "    \n",
    "    return individual,"
   ]
  },
  {
   "cell_type": "code",
   "execution_count": 9,
   "metadata": {},
   "outputs": [],
   "source": [
    "def eaSimple(population, toolbox, cxpb, mutpb, ngen, max, stats=None, halloffame=None, ):  \n",
    "    # Create a logbook to store statistics about the evolution process\n",
    "    logbook = tools.Logbook()\n",
    "    logbook.header = ['gen', 'nevals'] + (stats.fields if stats else [])\n",
    "\n",
    "    # Evaluate the fitness of the initial population\n",
    "    invalid_ind = [ind for ind in population if not ind.fitness.valid]\n",
    "    fitnesses = toolbox.map(toolbox.evaluate, invalid_ind)\n",
    "    for ind, fit in zip(invalid_ind, fitnesses):\n",
    "        ind.fitness.values = fit\n",
    "\n",
    "    # Update the hall of fame with the initial population if provided\n",
    "    if halloffame is not None:\n",
    "        halloffame.update(population)\n",
    "\n",
    "    # Record the statistics of the initial population\n",
    "    record = stats.compile(population) if stats else {}\n",
    "    logbook.record(gen=0, nevals=len(invalid_ind), **record)    \n",
    "    print(logbook.stream)\n",
    "    done = False\n",
    "\n",
    "    # Begin the generational process\n",
    "    for gen in range(1, ngen + 1):\n",
    "        if done: \n",
    "            plot_board(halloffame[0])\n",
    "            return\n",
    "        # Select the next generation individuals\n",
    "        offspring = toolbox.select(population, len(population))\n",
    "\n",
    "        # Clone the selected individuals to create the offspring\n",
    "        offspring = [toolbox.clone(ind) for ind in offspring]\n",
    "\n",
    "        # Apply crossover and mutation on the offspring\n",
    "        for i in range(1, len(offspring), 2):\n",
    "            if random.random() < cxpb:\n",
    "                offspring[i - 1], offspring[i] = toolbox.mate(offspring[i - 1],\n",
    "                                                              offspring[i])\n",
    "                # Invalidate the fitness values of the offspring\n",
    "                del offspring[i - 1].fitness.values, offspring[i].fitness.values\n",
    "\n",
    "        for i in range(len(offspring)):\n",
    "            if random.random() < mutpb:\n",
    "                offspring[i], = toolbox.mutate(offspring[i])\n",
    "                # Invalidate the fitness value of the offspring\n",
    "                del offspring[i].fitness.values\n",
    "\n",
    "        # Evaluate the fitness of the offspring\n",
    "        invalid_ind = [ind for ind in offspring if not ind.fitness.valid]\n",
    "        fitnesses = toolbox.map(toolbox.evaluate, invalid_ind)\n",
    "        \n",
    "        for ind, fit in zip(invalid_ind, fitnesses):\n",
    "            ind.fitness.values = fit \n",
    "            # Check if the solution has been found\n",
    "            if fit[0] == 0:\n",
    "              print(\"Solved\")\n",
    "              \n",
    "              done = True\n",
    "\n",
    "        # Update the hall of fame with the best individuals found so far\n",
    "        if halloffame is not None:\n",
    "            halloffame.update(offspring)       \n",
    "            # plot_board(halloffame[0])            \n",
    "\n",
    "        # Replace the current population by the offspring\n",
    "        population[:] = offspring\n",
    "\n",
    "        # Append the current generation statistics to the logbook\n",
    "        record = stats.compile(population) if stats else {}\n",
    "        logbook.record(gen=gen, nevals=len(invalid_ind), **record)\n",
    "        print(logbook.stream)\n",
    "    plot_board(halloffame[0])"
   ]
  },
  {
   "cell_type": "markdown",
   "metadata": {},
   "source": [
    "### Testing DEAP"
   ]
  },
  {
   "cell_type": "code",
   "execution_count": 10,
   "metadata": {},
   "outputs": [],
   "source": [
    "from deap import base, creator, tools, algorithms\n"
   ]
  },
  {
   "cell_type": "code",
   "execution_count": 11,
   "metadata": {},
   "outputs": [],
   "source": [
    "creator.create('FitnessMin', base.Fitness, weights=(-1.0,))\n",
    "creator.create('Individual', list, fitness=creator.FitnessMin)"
   ]
  },
  {
   "cell_type": "code",
   "execution_count": 12,
   "metadata": {},
   "outputs": [],
   "source": [
    "toolbox = base.Toolbox()\n",
    "toolbox.register(\"positions\", random.sample, sorted(board_locations), 8)\n",
    "toolbox.register(\"individual\", tools.initIterate, creator.Individual, toolbox.positions)\n",
    "toolbox.register(\"population\", tools.initRepeat, list, toolbox.individual)\n",
    "\n",
    "toolbox.register(\"evaluate\", evaluate)\n",
    "toolbox.register(\"mate\", crossover)\n",
    "toolbox.register(\"mutate\", mutate)\n",
    "toolbox.register('select', tools.selTournament, tournsize=3)"
   ]
  },
  {
   "cell_type": "code",
   "execution_count": 13,
   "metadata": {},
   "outputs": [
    {
     "name": "stdout",
     "output_type": "stream",
     "text": [
      "[(1, 5), (1, 6), (3, 4), (1, 0), (6, 1), (6, 0), (4, 0), (7, 2)]\n",
      "[(4, 7), (5, 2), (1, 3), (7, 3), (1, 5), (2, 7), (3, 6), (5, 0)]\n"
     ]
    }
   ],
   "source": [
    "#get 2 individuals\n",
    "ind1, ind2 = toolbox.individual(), toolbox.individual()\n",
    "#print them\n",
    "print(ind1)\n",
    "print(ind2)\n",
    "\n"
   ]
  },
  {
   "cell_type": "code",
   "execution_count": 83,
   "metadata": {},
   "outputs": [],
   "source": [
    "ind1, ind2 = toolbox.mate(ind1, ind2)"
   ]
  },
  {
   "cell_type": "code",
   "execution_count": 84,
   "metadata": {},
   "outputs": [
    {
     "name": "stdout",
     "output_type": "stream",
     "text": [
      "[(7, 4), (0, 5), (4, 7), (0, 4), (2, 0), (1, 4), (5, 0), (2, 1)]\n",
      "[(5, 1), (1, 4), (5, 0), (6, 7), (5, 4), (3, 2), (0, 5), (3, 6)]\n"
     ]
    }
   ],
   "source": [
    "print(ind1)\n",
    "print(ind2)"
   ]
  },
  {
   "cell_type": "code",
   "execution_count": 85,
   "metadata": {},
   "outputs": [],
   "source": [
    "ind1 = toolbox.mutate(ind1)\n",
    "ind2 = toolbox.mutate(ind2)"
   ]
  },
  {
   "cell_type": "code",
   "execution_count": 86,
   "metadata": {},
   "outputs": [
    {
     "name": "stdout",
     "output_type": "stream",
     "text": [
      "[(5, 1), (4, 1), (5, 0), (6, 7), (5, 4), (2, 3), (0, 5), (3, 6)]\n"
     ]
    }
   ],
   "source": [
    "ind2 = toolbox.mutate(ind2)\n",
    "print(ind2)"
   ]
  },
  {
   "cell_type": "code",
   "execution_count": 87,
   "metadata": {},
   "outputs": [
    {
     "name": "stdout",
     "output_type": "stream",
     "text": [
      "2 3 4\n",
      "9\n",
      "2 1 5\n",
      "8\n"
     ]
    }
   ],
   "source": [
    "#evaluate the individuals\n",
    "print(toolbox.evaluate(ind1))\n",
    "print(toolbox.evaluate(ind2))"
   ]
  },
  {
   "cell_type": "markdown",
   "metadata": {},
   "source": [
    "### Running DEAP"
   ]
  },
  {
   "cell_type": "code",
   "execution_count": 14,
   "metadata": {},
   "outputs": [
    {
     "name": "stderr",
     "output_type": "stream",
     "text": [
      "/Users/akhtar/opt/anaconda3/envs/new_tf/lib/python3.10/site-packages/deap/creator.py:185: RuntimeWarning: A class named 'FitnessMin' has already been created and it will be overwritten. Consider deleting previous creation of that class or rename it.\n",
      "  warnings.warn(\"A class named '{0}' has already been created and it \"\n",
      "/Users/akhtar/opt/anaconda3/envs/new_tf/lib/python3.10/site-packages/deap/creator.py:185: RuntimeWarning: A class named 'Individual' has already been created and it will be overwritten. Consider deleting previous creation of that class or rename it.\n",
      "  warnings.warn(\"A class named '{0}' has already been created and it \"\n"
     ]
    }
   ],
   "source": [
    "creator.create('FitnessMin', base.Fitness, weights=(-1.0,))\n",
    "creator.create('Individual', list, fitness=creator.FitnessMin)\n",
    "toolbox = base.Toolbox()\n",
    "toolbox.register(\"positions\", random.sample, sorted(board_locations), 8)\n",
    "toolbox.register(\"individual\", tools.initIterate, creator.Individual, toolbox.positions)\n",
    "toolbox.register(\"population\", tools.initRepeat, list, toolbox.individual)\n",
    "\n",
    "toolbox.register(\"evaluate\", evaluate)\n",
    "toolbox.register(\"mate\", crossover)\n",
    "toolbox.register(\"mutate\", mutate)\n",
    "toolbox.register('select', tools.selTournament, tournsize=3)"
   ]
  },
  {
   "cell_type": "code",
   "execution_count": 15,
   "metadata": {},
   "outputs": [
    {
     "name": "stdout",
     "output_type": "stream",
     "text": [
      "gen\tnevals\tAvg  \tStd    \tMin\tMax\n",
      "0  \t1000  \t8.573\t1.54035\t4  \t13 \n",
      "1  \t1000  \t8.162\t1.48854\t3  \t13 \n",
      "2  \t1000  \t7.935\t1.52012\t4  \t13 \n",
      "3  \t1000  \t7.758\t1.50912\t3  \t12 \n",
      "4  \t1000  \t7.707\t1.50637\t3  \t13 \n",
      "5  \t1000  \t7.78 \t1.50519\t3  \t12 \n",
      "6  \t1000  \t7.742\t1.46541\t4  \t13 \n",
      "7  \t1000  \t7.73 \t1.47821\t3  \t12 \n",
      "8  \t1000  \t7.617\t1.44094\t3  \t13 \n",
      "9  \t1000  \t7.533\t1.46387\t3  \t12 \n",
      "10 \t1000  \t7.668\t1.45938\t3  \t12 \n",
      "11 \t1000  \t7.574\t1.53575\t3  \t12 \n",
      "12 \t1000  \t7.562\t1.46566\t3  \t12 \n",
      "13 \t1000  \t7.475\t1.53668\t2  \t13 \n",
      "14 \t1000  \t7.524\t1.45307\t3  \t12 \n",
      "15 \t1000  \t7.496\t1.49063\t2  \t13 \n",
      "16 \t1000  \t7.443\t1.50225\t3  \t13 \n",
      "17 \t1000  \t7.383\t1.48738\t3  \t12 \n",
      "18 \t1000  \t7.317\t1.48543\t3  \t12 \n",
      "19 \t1000  \t7.175\t1.49946\t2  \t12 \n",
      "20 \t1000  \t7.112\t1.44688\t2  \t11 \n",
      "21 \t1000  \t7    \t1.43597\t3  \t11 \n",
      "22 \t1000  \t6.791\t1.42735\t3  \t11 \n",
      "23 \t1000  \t6.702\t1.40826\t3  \t11 \n",
      "24 \t1000  \t6.562\t1.45195\t2  \t12 \n",
      "25 \t1000  \t6.417\t1.38026\t3  \t11 \n",
      "26 \t1000  \t6.371\t1.33767\t2  \t10 \n",
      "27 \t1000  \t6.206\t1.34743\t2  \t11 \n",
      "28 \t1000  \t6.137\t1.3661 \t1  \t11 \n",
      "29 \t1000  \t5.882\t1.32969\t2  \t10 \n",
      "30 \t1000  \t5.894\t1.29181\t2  \t10 \n",
      "31 \t1000  \t5.882\t1.30157\t2  \t10 \n",
      "32 \t1000  \t5.688\t1.32614\t2  \t11 \n",
      "33 \t1000  \t5.582\t1.31578\t1  \t10 \n",
      "34 \t1000  \t5.463\t1.33215\t1  \t11 \n",
      "35 \t1000  \t5.33 \t1.29734\t2  \t9  \n",
      "36 \t1000  \t5.214\t1.2846 \t2  \t10 \n",
      "37 \t1000  \t5.11 \t1.30303\t1  \t9  \n",
      "38 \t1000  \t5.013\t1.24211\t1  \t10 \n",
      "39 \t1000  \t4.901\t1.28187\t1  \t9  \n",
      "40 \t1000  \t4.766\t1.25349\t1  \t9  \n",
      "41 \t1000  \t4.758\t1.24637\t1  \t9  \n",
      "Solved\n",
      "42 \t1000  \t4.629\t1.22775\t0  \t8  \n"
     ]
    },
    {
     "data": {
      "image/png": "[encoded data removed]",
      "text/plain": [
       "<Figure size 640x480 with 1 Axes>"
      ]
     },
     "metadata": {},
     "output_type": "display_data"
    }
   ],
   "source": [
    "seed = 99\n",
    "random.seed(seed)\n",
    "\n",
    "pop = toolbox.population(n=1000)\n",
    "hof = tools.HallOfFame(1)\n",
    "stats = tools.Statistics(lambda ind: ind.fitness.values)\n",
    "stats.register(\"Avg\", np.mean)\n",
    "stats.register(\"Std\", np.std)\n",
    "stats.register(\"Min\", np.min)\n",
    "stats.register(\"Max\", np.max)\n",
    "\n",
    "eaSimple(pop, toolbox, cxpb=1, mutpb=1, ngen=100, max = 8,\n",
    "         stats=stats ,halloffame=hof)"
   ]
  },
  {
   "cell_type": "code",
   "execution_count": null,
   "metadata": {},
   "outputs": [],
   "source": []
  }
 ],
 "metadata": {
  "kernelspec": {
   "display_name": "base",
   "language": "python",
   "name": "python3"
  },
  "language_info": {
   "codemirror_mode": {
    "name": "ipython",
    "version": 3
   },
   "file_extension": ".py",
   "mimetype": "text/x-python",
   "name": "python",
   "nbconvert_exporter": "python",
   "pygments_lexer": "ipython3",
   "version": "3.10.8"
  },
  "orig_nbformat": 4
 },
 "nbformat": 4,
 "nbformat_minor": 2
}
