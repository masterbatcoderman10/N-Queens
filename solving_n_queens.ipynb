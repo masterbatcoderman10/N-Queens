{
 "cells": [
  {
   "cell_type": "code",
   "execution_count": null,
   "metadata": {},
   "outputs": [],
   "source": [
    "%pip install -q deap"
   ]
  },
  {
   "cell_type": "code",
   "execution_count": 1,
   "metadata": {},
   "outputs": [],
   "source": [
    "from utils import *"
   ]
  },
  {
   "cell_type": "code",
   "execution_count": 2,
   "metadata": {},
   "outputs": [
    {
     "name": "stdout",
     "output_type": "stream",
     "text": [
      "gen\tnevals\tAvg  \tStd    \tMin\tMax\n",
      "0  \t1000  \t8.573\t1.54035\t4  \t13 \n",
      "1  \t1000  \t8.162\t1.48854\t3  \t13 \n",
      "2  \t1000  \t7.935\t1.52012\t4  \t13 \n",
      "3  \t1000  \t7.758\t1.50912\t3  \t12 \n",
      "4  \t1000  \t7.707\t1.50637\t3  \t13 \n",
      "5  \t1000  \t7.78 \t1.50519\t3  \t12 \n",
      "6  \t1000  \t7.742\t1.46541\t4  \t13 \n",
      "7  \t1000  \t7.73 \t1.47821\t3  \t12 \n",
      "8  \t1000  \t7.617\t1.44094\t3  \t13 \n",
      "9  \t1000  \t7.533\t1.46387\t3  \t12 \n",
      "10 \t1000  \t7.668\t1.45938\t3  \t12 \n",
      "11 \t1000  \t7.574\t1.53575\t3  \t12 \n",
      "12 \t1000  \t7.562\t1.46566\t3  \t12 \n",
      "13 \t1000  \t7.475\t1.53668\t2  \t13 \n",
      "14 \t1000  \t7.524\t1.45307\t3  \t12 \n",
      "15 \t1000  \t7.496\t1.49063\t2  \t13 \n",
      "16 \t1000  \t7.443\t1.50225\t3  \t13 \n",
      "17 \t1000  \t7.383\t1.48738\t3  \t12 \n",
      "18 \t1000  \t7.317\t1.48543\t3  \t12 \n",
      "19 \t1000  \t7.175\t1.49946\t2  \t12 \n",
      "20 \t1000  \t7.112\t1.44688\t2  \t11 \n",
      "21 \t1000  \t7    \t1.43597\t3  \t11 \n",
      "22 \t1000  \t6.791\t1.42735\t3  \t11 \n",
      "23 \t1000  \t6.702\t1.40826\t3  \t11 \n",
      "24 \t1000  \t6.562\t1.45195\t2  \t12 \n",
      "25 \t1000  \t6.417\t1.38026\t3  \t11 \n",
      "26 \t1000  \t6.371\t1.33767\t2  \t10 \n",
      "27 \t1000  \t6.206\t1.34743\t2  \t11 \n",
      "28 \t1000  \t6.137\t1.3661 \t1  \t11 \n",
      "29 \t1000  \t5.882\t1.32969\t2  \t10 \n",
      "30 \t1000  \t5.894\t1.29181\t2  \t10 \n",
      "31 \t1000  \t5.882\t1.30157\t2  \t10 \n",
      "32 \t1000  \t5.688\t1.32614\t2  \t11 \n",
      "33 \t1000  \t5.582\t1.31578\t1  \t10 \n",
      "34 \t1000  \t5.463\t1.33215\t1  \t11 \n",
      "35 \t1000  \t5.33 \t1.29734\t2  \t9  \n",
      "36 \t1000  \t5.214\t1.2846 \t2  \t10 \n",
      "37 \t1000  \t5.11 \t1.30303\t1  \t9  \n",
      "38 \t1000  \t5.013\t1.24211\t1  \t10 \n",
      "39 \t1000  \t4.901\t1.28187\t1  \t9  \n",
      "40 \t1000  \t4.766\t1.25349\t1  \t9  \n",
      "41 \t1000  \t4.758\t1.24637\t1  \t9  \n",
      "Solved\n",
      "42 \t1000  \t4.629\t1.22775\t0  \t8  \n"
     ]
    }
   ],
   "source": [
    "solve()"
   ]
  },
  {
   "cell_type": "code",
   "execution_count": null,
   "metadata": {},
   "outputs": [],
   "source": []
  }
 ],
 "metadata": {
  "kernelspec": {
   "display_name": "new_tf",
   "language": "python",
   "name": "python3"
  },
  "language_info": {
   "codemirror_mode": {
    "name": "ipython",
    "version": 3
   },
   "file_extension": ".py",
   "mimetype": "text/x-python",
   "name": "python",
   "nbconvert_exporter": "python",
   "pygments_lexer": "ipython3",
   "version": "3.10.8"
  }
 },
 "nbformat": 4,
 "nbformat_minor": 2
}
